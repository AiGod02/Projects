{
 "cells": [
  {
   "cell_type": "code",
   "execution_count": 2,
   "id": "ea441bc9",
   "metadata": {},
   "outputs": [],
   "source": [
    "\n",
    "# import required packages\n",
    "import cv2\n",
    "from keras.models import Sequential\n",
    "from keras.layers import Conv2D, MaxPooling2D, Dense, Dropout, Flatten\n",
    "from keras.optimizers import Adam\n",
    "from keras.preprocessing.image import ImageDataGenerator\n",
    "\n"
   ]
  },
  {
   "cell_type": "code",
   "execution_count": 2,
   "id": "d861ee9b",
   "metadata": {},
   "outputs": [
    {
     "name": "stdout",
     "output_type": "stream",
     "text": [
      "Found 28709 images belonging to 7 classes.\n"
     ]
    }
   ],
   "source": [
    "# Initialize image data generator with rescaling\n",
    "train_data_gen = ImageDataGenerator(rescale=1./255)\n",
    "validation_data_gen = ImageDataGenerator(rescale=1./255)\n",
    "\n",
    "# Preprocess all test images\n",
    "train_generator = train_data_gen.flow_from_directory(\n",
    "        'Data2/train',\n",
    "        target_size=(48, 48),\n",
    "        batch_size=64,\n",
    "        color_mode=\"grayscale\",\n",
    "        class_mode='categorical')\n",
    "\n"
   ]
  },
  {
   "cell_type": "code",
   "execution_count": 3,
   "id": "87d86c10",
   "metadata": {},
   "outputs": [
    {
     "name": "stdout",
     "output_type": "stream",
     "text": [
      "Found 7178 images belonging to 7 classes.\n"
     ]
    }
   ],
   "source": [
    "# Preprocess all train images\n",
    "validation_generator = validation_data_gen.flow_from_directory(\n",
    "        'Data2/test',\n",
    "        target_size=(48, 48),\n",
    "        batch_size=64,\n",
    "        color_mode=\"grayscale\",\n",
    "        class_mode='categorical')\n",
    "\n",
    "# create model structure\n"
   ]
  },
  {
   "cell_type": "code",
   "execution_count": 3,
   "id": "c5f37a8c",
   "metadata": {},
   "outputs": [],
   "source": [
    "emotion_model = Sequential()\n",
    "\n",
    "emotion_model.add(Conv2D(32, kernel_size=(3, 3), activation='relu', input_shape=(48, 48, 1)))\n",
    "emotion_model.add(Conv2D(64, kernel_size=(3, 3), activation='relu'))\n",
    "emotion_model.add(MaxPooling2D(pool_size=(2, 2)))\n",
    "emotion_model.add(Dropout(0.25))\n",
    "\n",
    "emotion_model.add(Conv2D(128, kernel_size=(3, 3), activation='relu'))\n",
    "emotion_model.add(MaxPooling2D(pool_size=(2, 2)))\n",
    "emotion_model.add(Conv2D(128, kernel_size=(3, 3), activation='relu'))\n",
    "emotion_model.add(MaxPooling2D(pool_size=(2, 2)))\n",
    "emotion_model.add(Dropout(0.25))\n",
    "\n",
    "emotion_model.add(Flatten())\n",
    "emotion_model.add(Dense(1024, activation='relu'))\n",
    "emotion_model.add(Dropout(0.5))\n",
    "emotion_model.add(Dense(7, activation='softmax'))\n"
   ]
  },
  {
   "cell_type": "code",
   "execution_count": 5,
   "id": "694664d5",
   "metadata": {},
   "outputs": [
    {
     "name": "stderr",
     "output_type": "stream",
     "text": [
      "C:\\Users\\sooja\\anaconda3\\lib\\site-packages\\keras\\optimizers\\optimizer_v2\\adam.py:110: UserWarning: The `lr` argument is deprecated, use `learning_rate` instead.\n",
      "  super(Adam, self).__init__(name, **kwargs)\n",
      "C:\\Users\\sooja\\AppData\\Local\\Temp\\ipykernel_25860\\366997177.py:6: UserWarning: `Model.fit_generator` is deprecated and will be removed in a future version. Please use `Model.fit`, which supports generators.\n",
      "  emotion_model_info = emotion_model.fit_generator(\n"
     ]
    },
    {
     "name": "stdout",
     "output_type": "stream",
     "text": [
      "Epoch 1/50\n",
      "448/448 [==============================] - 156s 345ms/step - loss: 1.7870 - accuracy: 0.2676 - val_loss: 1.6668 - val_accuracy: 0.3571\n",
      "Epoch 2/50\n",
      "448/448 [==============================] - 152s 339ms/step - loss: 1.6101 - accuracy: 0.3759 - val_loss: 1.5305 - val_accuracy: 0.4088\n",
      "Epoch 3/50\n",
      "448/448 [==============================] - 162s 361ms/step - loss: 1.5168 - accuracy: 0.4165 - val_loss: 1.4567 - val_accuracy: 0.4464\n",
      "Epoch 4/50\n",
      "448/448 [==============================] - 155s 346ms/step - loss: 1.4538 - accuracy: 0.4414 - val_loss: 1.4078 - val_accuracy: 0.4584\n",
      "Epoch 5/50\n",
      "448/448 [==============================] - 142s 316ms/step - loss: 1.3997 - accuracy: 0.4657 - val_loss: 1.3505 - val_accuracy: 0.4849\n",
      "Epoch 6/50\n",
      "448/448 [==============================] - 157s 350ms/step - loss: 1.3507 - accuracy: 0.4866 - val_loss: 1.3192 - val_accuracy: 0.4979\n",
      "Epoch 7/50\n",
      "448/448 [==============================] - 232s 518ms/step - loss: 1.3071 - accuracy: 0.5053 - val_loss: 1.2759 - val_accuracy: 0.5159\n",
      "Epoch 8/50\n",
      "448/448 [==============================] - 190s 424ms/step - loss: 1.2697 - accuracy: 0.5232 - val_loss: 1.2547 - val_accuracy: 0.5246\n",
      "Epoch 9/50\n",
      "448/448 [==============================] - 167s 372ms/step - loss: 1.2375 - accuracy: 0.5342 - val_loss: 1.2262 - val_accuracy: 0.5333\n",
      "Epoch 10/50\n",
      "448/448 [==============================] - 152s 340ms/step - loss: 1.2064 - accuracy: 0.5444 - val_loss: 1.2133 - val_accuracy: 0.5378\n",
      "Epoch 11/50\n",
      "448/448 [==============================] - 172s 384ms/step - loss: 1.1788 - accuracy: 0.5590 - val_loss: 1.1963 - val_accuracy: 0.5424\n",
      "Epoch 12/50\n",
      "448/448 [==============================] - 159s 355ms/step - loss: 1.1533 - accuracy: 0.5682 - val_loss: 1.1664 - val_accuracy: 0.5559\n",
      "Epoch 13/50\n",
      "448/448 [==============================] - 174s 388ms/step - loss: 1.1272 - accuracy: 0.5794 - val_loss: 1.1509 - val_accuracy: 0.5625\n",
      "Epoch 14/50\n",
      "448/448 [==============================] - 195s 436ms/step - loss: 1.0999 - accuracy: 0.5876 - val_loss: 1.1550 - val_accuracy: 0.5604\n",
      "Epoch 15/50\n",
      "448/448 [==============================] - 162s 362ms/step - loss: 1.0800 - accuracy: 0.5951 - val_loss: 1.1312 - val_accuracy: 0.5717\n",
      "Epoch 16/50\n",
      "448/448 [==============================] - 161s 360ms/step - loss: 1.0592 - accuracy: 0.6064 - val_loss: 1.1246 - val_accuracy: 0.5755\n",
      "Epoch 17/50\n",
      "448/448 [==============================] - 134s 300ms/step - loss: 1.0349 - accuracy: 0.6121 - val_loss: 1.1196 - val_accuracy: 0.5780\n",
      "Epoch 18/50\n",
      "448/448 [==============================] - 127s 285ms/step - loss: 1.0152 - accuracy: 0.6221 - val_loss: 1.1005 - val_accuracy: 0.5893\n",
      "Epoch 19/50\n",
      "448/448 [==============================] - 129s 287ms/step - loss: 0.9886 - accuracy: 0.6340 - val_loss: 1.1025 - val_accuracy: 0.5864\n",
      "Epoch 20/50\n",
      "448/448 [==============================] - 129s 287ms/step - loss: 0.9697 - accuracy: 0.6391 - val_loss: 1.0894 - val_accuracy: 0.5907\n",
      "Epoch 21/50\n",
      "448/448 [==============================] - 129s 288ms/step - loss: 0.9494 - accuracy: 0.6502 - val_loss: 1.0901 - val_accuracy: 0.5938\n",
      "Epoch 22/50\n",
      "448/448 [==============================] - 166s 370ms/step - loss: 0.9323 - accuracy: 0.6543 - val_loss: 1.0839 - val_accuracy: 0.5919\n",
      "Epoch 23/50\n",
      "448/448 [==============================] - 157s 351ms/step - loss: 0.9047 - accuracy: 0.6659 - val_loss: 1.0825 - val_accuracy: 0.6007\n",
      "Epoch 24/50\n",
      "448/448 [==============================] - 162s 362ms/step - loss: 0.8863 - accuracy: 0.6707 - val_loss: 1.0738 - val_accuracy: 0.6057\n",
      "Epoch 25/50\n",
      "448/448 [==============================] - 157s 351ms/step - loss: 0.8666 - accuracy: 0.6788 - val_loss: 1.0667 - val_accuracy: 0.6097\n",
      "Epoch 26/50\n",
      "448/448 [==============================] - 134s 300ms/step - loss: 0.8459 - accuracy: 0.6859 - val_loss: 1.0785 - val_accuracy: 0.6069\n",
      "Epoch 27/50\n",
      "448/448 [==============================] - 129s 289ms/step - loss: 0.8271 - accuracy: 0.6950 - val_loss: 1.0632 - val_accuracy: 0.6098\n",
      "Epoch 28/50\n",
      "448/448 [==============================] - 133s 298ms/step - loss: 0.8027 - accuracy: 0.7040 - val_loss: 1.0730 - val_accuracy: 0.6098\n",
      "Epoch 29/50\n",
      "448/448 [==============================] - 137s 306ms/step - loss: 0.7788 - accuracy: 0.7151 - val_loss: 1.0729 - val_accuracy: 0.6134\n",
      "Epoch 30/50\n",
      "448/448 [==============================] - 130s 289ms/step - loss: 0.7569 - accuracy: 0.7242 - val_loss: 1.0714 - val_accuracy: 0.6117\n",
      "Epoch 31/50\n",
      "448/448 [==============================] - 126s 282ms/step - loss: 0.7353 - accuracy: 0.7324 - val_loss: 1.0737 - val_accuracy: 0.6154\n",
      "Epoch 32/50\n",
      "448/448 [==============================] - 129s 289ms/step - loss: 0.7150 - accuracy: 0.7384 - val_loss: 1.0741 - val_accuracy: 0.6170\n",
      "Epoch 33/50\n",
      "448/448 [==============================] - 129s 288ms/step - loss: 0.6962 - accuracy: 0.7465 - val_loss: 1.0756 - val_accuracy: 0.6166\n",
      "Epoch 34/50\n",
      "448/448 [==============================] - 127s 283ms/step - loss: 0.6772 - accuracy: 0.7528 - val_loss: 1.0768 - val_accuracy: 0.6177\n",
      "Epoch 35/50\n",
      "448/448 [==============================] - 127s 283ms/step - loss: 0.6507 - accuracy: 0.7611 - val_loss: 1.0855 - val_accuracy: 0.6137\n",
      "Epoch 36/50\n",
      "448/448 [==============================] - 125s 278ms/step - loss: 0.6288 - accuracy: 0.7729 - val_loss: 1.0839 - val_accuracy: 0.6212\n",
      "Epoch 37/50\n",
      "448/448 [==============================] - 126s 281ms/step - loss: 0.6195 - accuracy: 0.7755 - val_loss: 1.0916 - val_accuracy: 0.6212\n",
      "Epoch 38/50\n",
      "448/448 [==============================] - 129s 288ms/step - loss: 0.5971 - accuracy: 0.7828 - val_loss: 1.0913 - val_accuracy: 0.6236\n",
      "Epoch 39/50\n",
      "448/448 [==============================] - 136s 305ms/step - loss: 0.5751 - accuracy: 0.7907 - val_loss: 1.1022 - val_accuracy: 0.6243\n",
      "Epoch 40/50\n",
      "448/448 [==============================] - 137s 305ms/step - loss: 0.5647 - accuracy: 0.7964 - val_loss: 1.1087 - val_accuracy: 0.6251\n",
      "Epoch 41/50\n",
      "448/448 [==============================] - 131s 292ms/step - loss: 0.5472 - accuracy: 0.8012 - val_loss: 1.1038 - val_accuracy: 0.6242\n",
      "Epoch 42/50\n",
      "448/448 [==============================] - 134s 299ms/step - loss: 0.5249 - accuracy: 0.8091 - val_loss: 1.1156 - val_accuracy: 0.6229\n",
      "Epoch 43/50\n",
      "448/448 [==============================] - 147s 329ms/step - loss: 0.5125 - accuracy: 0.8142 - val_loss: 1.1181 - val_accuracy: 0.6249\n",
      "Epoch 44/50\n",
      "448/448 [==============================] - 167s 373ms/step - loss: 0.4959 - accuracy: 0.8213 - val_loss: 1.1208 - val_accuracy: 0.6271\n",
      "Epoch 45/50\n",
      "448/448 [==============================] - 171s 381ms/step - loss: 0.4792 - accuracy: 0.8258 - val_loss: 1.1443 - val_accuracy: 0.6246\n",
      "Epoch 46/50\n",
      "448/448 [==============================] - 199s 444ms/step - loss: 0.4579 - accuracy: 0.8355 - val_loss: 1.1449 - val_accuracy: 0.6204\n",
      "Epoch 47/50\n",
      "448/448 [==============================] - 182s 406ms/step - loss: 0.4551 - accuracy: 0.8383 - val_loss: 1.1621 - val_accuracy: 0.6239\n",
      "Epoch 48/50\n",
      "448/448 [==============================] - 140s 312ms/step - loss: 0.4282 - accuracy: 0.8443 - val_loss: 1.1702 - val_accuracy: 0.6236\n",
      "Epoch 49/50\n",
      "448/448 [==============================] - 135s 301ms/step - loss: 0.4134 - accuracy: 0.8521 - val_loss: 1.1690 - val_accuracy: 0.6225\n",
      "Epoch 50/50\n",
      "448/448 [==============================] - 136s 304ms/step - loss: 0.4101 - accuracy: 0.8512 - val_loss: 1.1746 - val_accuracy: 0.6265\n"
     ]
    }
   ],
   "source": [
    "\n",
    "cv2.ocl.setUseOpenCL(False)\n",
    "\n",
    "emotion_model.compile(loss='categorical_crossentropy', optimizer=Adam(lr=0.0001, decay=1e-6), metrics=['accuracy'])\n",
    "\n",
    "# Train the neural network/model\n",
    "emotion_model_info = emotion_model.fit_generator(\n",
    "        train_generator,\n",
    "        steps_per_epoch=28709 // 64,\n",
    "        epochs=50,\n",
    "        validation_data=validation_generator,\n",
    "        validation_steps=7178 // 64)\n",
    "\n",
    "# save model structure in jason file\n",
    "model_json = emotion_model.to_json()\n",
    "with open(\"emotion_model.json\", \"w\") as json_file:\n",
    "    json_file.write(model_json)\n",
    "\n",
    "# save trained model weight in .h5 file\n",
    "emotion_model.save_weights('emotion_model.h5')"
   ]
  },
  {
   "cell_type": "code",
   "execution_count": null,
   "id": "725faa44",
   "metadata": {},
   "outputs": [],
   "source": []
  }
 ],
 "metadata": {
  "kernelspec": {
   "display_name": "Python 3 (ipykernel)",
   "language": "python",
   "name": "python3"
  },
  "language_info": {
   "codemirror_mode": {
    "name": "ipython",
    "version": 3
   },
   "file_extension": ".py",
   "mimetype": "text/x-python",
   "name": "python",
   "nbconvert_exporter": "python",
   "pygments_lexer": "ipython3",
   "version": "3.9.12"
  }
 },
 "nbformat": 4,
 "nbformat_minor": 5
}
