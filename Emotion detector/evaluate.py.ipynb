{
 "cells": [
  {
   "cell_type": "code",
   "execution_count": 1,
   "id": "b748c38f",
   "metadata": {},
   "outputs": [],
   "source": [
    "import numpy as np\n",
    "from keras.models import model_from_json\n",
    "import matplotlib.pyplot as plt\n",
    "from keras.preprocessing.image import ImageDataGenerator\n",
    "from sklearn.metrics import confusion_matrix, classification_report,ConfusionMatrixDisplay\n",
    "\n",
    "\n",
    "\n",
    "\n"
   ]
  },
  {
   "cell_type": "code",
   "execution_count": 2,
   "id": "c7bb5a79",
   "metadata": {},
   "outputs": [
    {
     "name": "stdout",
     "output_type": "stream",
     "text": [
      "Loaded model from disk\n",
      "Found 7178 images belonging to 7 classes.\n"
     ]
    }
   ],
   "source": [
    "emotion_dict = {0: \"Angry\", 1: \"Disgusted\", 2: \"Fearful\", 3: \"Happy\", 4: \"Neutral\", 5: \"Sad\", 6: \"Surprised\"}\n",
    "\n",
    "# load json and create model\n",
    "json_file = open('emotion_model.json', 'r')\n",
    "loaded_model_json = json_file.read()\n",
    "json_file.close()\n",
    "emotion_model = model_from_json(loaded_model_json)\n",
    "\n",
    "# load weights into new model\n",
    "emotion_model.load_weights(\"emotion_model.h5\")\n",
    "print(\"Loaded model from disk\")\n",
    "\n",
    "# Initialize image data generator with rescaling\n",
    "test_data_gen = ImageDataGenerator(rescale=1./255)\n",
    "\n",
    "# Preprocess all test images\n",
    "test_generator = test_data_gen.flow_from_directory(\n",
    "        'Data2/test',\n",
    "        target_size=(48, 48),\n",
    "        batch_size=64,\n",
    "        color_mode=\"grayscale\",\n",
    "        class_mode='categorical')"
   ]
  },
  {
   "cell_type": "code",
   "execution_count": 4,
   "id": "01c3c783",
   "metadata": {},
   "outputs": [
    {
     "name": "stdout",
     "output_type": "stream",
     "text": [
      "113/113 [==============================] - 19s 169ms/step\n",
      "-----------------------------------------------------------------\n",
      "[[130  11 127 230 179 163 118]\n",
      " [ 14   0  13  26  15  28  15]\n",
      " [151  17 109 261 183 193 110]\n",
      " [262  15 213 441 346 299 198]\n",
      " [139  16 142 331 257 183 165]\n",
      " [165  18 146 326 249 200 143]\n",
      " [114   7  92 222 147 160  89]]\n"
     ]
    },
    {
     "data": {
      "image/png": "[encoded data removed]",
      "text/plain": [
       "<Figure size 432x288 with 2 Axes>"
      ]
     },
     "metadata": {
      "needs_background": "light"
     },
     "output_type": "display_data"
    },
    {
     "name": "stdout",
     "output_type": "stream",
     "text": [
      "-----------------------------------------------------------------\n",
      "              precision    recall  f1-score   support\n",
      "\n",
      "           0       0.13      0.14      0.13       958\n",
      "           1       0.00      0.00      0.00       111\n",
      "           2       0.13      0.11      0.12      1024\n",
      "           3       0.24      0.25      0.24      1774\n",
      "           4       0.19      0.21      0.20      1233\n",
      "           5       0.16      0.16      0.16      1247\n",
      "           6       0.11      0.11      0.11       831\n",
      "\n",
      "    accuracy                           0.17      7178\n",
      "   macro avg       0.14      0.14      0.14      7178\n",
      "weighted avg       0.17      0.17      0.17      7178\n",
      "\n"
     ]
    }
   ],
   "source": [
    "\n",
    "# do prediction on test data\n",
    "predictions = emotion_model.predict(test_generator)\n",
    "\n",
    "# see predictions\n",
    "# for result in predictions:\n",
    "#     max_index = int(np.argmax(result))\n",
    "#     print(emotion_dict[max_index])\n",
    "\n",
    "print(\"-----------------------------------------------------------------\")\n",
    "# confusion matrix\n",
    "c_matrix = confusion_matrix(test_generator.classes, predictions.argmax(axis=1))\n",
    "print(c_matrix)\n",
    "cm_display = ConfusionMatrixDisplay(confusion_matrix=c_matrix, display_labels=emotion_dict)\n",
    "cm_display.plot(cmap=plt.cm.Blues)\n",
    "plt.show()\n",
    "\n",
    "# Classification report\n",
    "print(\"-----------------------------------------------------------------\")\n",
    "print(classification_report(test_generator.classes, predictions.argmax(axis=1)))"
   ]
  },
  {
   "cell_type": "code",
   "execution_count": 5,
   "id": "63c99d0f",
   "metadata": {},
   "outputs": [
    {
     "data": {
      "text/plain": [
       "(7178, 7)"
      ]
     },
     "execution_count": 5,
     "metadata": {},
     "output_type": "execute_result"
    }
   ],
   "source": [
    "predictions.shape"
   ]
  },
  {
   "cell_type": "code",
   "execution_count": 8,
   "id": "b45fb515",
   "metadata": {},
   "outputs": [
    {
     "data": {
      "text/plain": [
       "array([2.8945938e-01, 1.5923802e-05, 1.6962744e-02, 8.7087430e-02,\n",
       "       3.0776361e-01, 2.9862067e-01, 9.0207774e-05], dtype=float32)"
      ]
     },
     "execution_count": 8,
     "metadata": {},
     "output_type": "execute_result"
    }
   ],
   "source": [
    "predictions[0]"
   ]
  },
  {
   "cell_type": "code",
   "execution_count": null,
   "id": "8044053b",
   "metadata": {},
   "outputs": [],
   "source": []
  }
 ],
 "metadata": {
  "kernelspec": {
   "display_name": "Python 3 (ipykernel)",
   "language": "python",
   "name": "python3"
  },
  "language_info": {
   "codemirror_mode": {
    "name": "ipython",
    "version": 3
   },
   "file_extension": ".py",
   "mimetype": "text/x-python",
   "name": "python",
   "nbconvert_exporter": "python",
   "pygments_lexer": "ipython3",
   "version": "3.9.12"
  }
 },
 "nbformat": 4,
 "nbformat_minor": 5
}
